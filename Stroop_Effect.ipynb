{
 "cells": [
  {
   "cell_type": "markdown",
   "metadata": {},
   "source": [
    "### 统计学：检验心理学现象\n",
    "\n",
    "背景信息\n",
    "\n",
    "在一个Stroop （斯特鲁普）任务中，参与者得到了一列文字，每个文字都用一种油墨颜色展示。参与者的任务是将文字的打印颜色大声说出来。这项任务有两个条件：一致文字条件，和不一致文字条件。在一致文字条件中，显示的文字是与它们的打印颜色匹配的颜色词，如“红色”、“蓝色”。在不一致文字条件中，显示的文字是与它们的打印颜色不匹配的颜色词，如“紫色”、“橙色”。在每个情况中，我们将计量说出同等大小的列表中的墨色名称的时间。**每位参与者**必须全部完成并记录每种条件下使用的时间。\n",
    "\n",
    "调查问题\n",
    "\n",
    "作为一般说明，请确保记录你在创建项目时使用或参考的任何资源。作为项目提交的一部分，你将需要报告信息来源。\n",
    "\n",
    "(1) 我们的自变量是什么？因变量是什么？"
   ]
  },
  {
   "cell_type": "markdown",
   "metadata": {},
   "source": [
    "自变量是文字与颜色是否一致，因变量是每位参与者在每种条件下全部完成任务使用的时间。"
   ]
  },
  {
   "cell_type": "markdown",
   "metadata": {},
   "source": [
    "(2) 此任务的适当假设集是什么？你需要以文字和数学符号方式对假设集中的零假设和对立假设加以说明，并对数学符号进行定义。你想执行什么类型的统计检验？为你的选择提供正当理由（比如，为何该实验满足你所选统计检验的前置条件）。"
   ]
  },
  {
   "cell_type": "markdown",
   "metadata": {},
   "source": [
    "$\\mu_{congruent}$:总体在文字与颜色一致条件下使用的平均时间\n",
    "\n",
    "$\\mu_{incongruent}$:总体在文字与颜色不一致条件下使用的平均时间\n",
    "\n",
    "$$H_0 : \\mu_{congruent} \\geq \\mu_{incongruent}$$\n",
    "$$H_1 : \\mu_{congruent} < \\mu_{incongruent}$$\n",
    "\n",
    "**零假设$H_0$** : 参与者在文字与颜色一致条件下完成任务使用的平均时间大于等于文字与颜色不一致条件下完成任务使用的平均时间。\n",
    "\n",
    "**对立假设$H_1$** : 参与者在文字与颜色一致条件下完成任务使用的平均时间小于不一致条件下完成任务使用的平均时间，存在斯特鲁普效应，与颜色不一致的文字信息干扰了参与者，使参与者说出颜色的时间变长。\n",
    "\n",
    "**我想执行假设检验来测试两次实验使用的平均时间是否存在差异。因为样本容量很小，所以使用自助法和抽样分布，构建参数的置信区间，通过模拟零假设和单尾检验法确定P值，然后与I 类错误阙值比较，从而判断是否拒绝零假设。使用置信区间和假设检验能够在做决策时提供统计显著性。**"
   ]
  },
  {
   "cell_type": "markdown",
   "metadata": {},
   "source": [
    "\n",
    "(3) 报告关于此数据集的一些描述性统计。包含至少一个集中趋势测量和至少一个变异测量。"
   ]
  },
  {
   "cell_type": "code",
   "execution_count": 1,
   "metadata": {},
   "outputs": [
    {
     "data": {
      "text/html": [
       "<div>\n",
       "<style scoped>\n",
       "    .dataframe tbody tr th:only-of-type {\n",
       "        vertical-align: middle;\n",
       "    }\n",
       "\n",
       "    .dataframe tbody tr th {\n",
       "        vertical-align: top;\n",
       "    }\n",
       "\n",
       "    .dataframe thead th {\n",
       "        text-align: right;\n",
       "    }\n",
       "</style>\n",
       "<table border=\"1\" class=\"dataframe\">\n",
       "  <thead>\n",
       "    <tr style=\"text-align: right;\">\n",
       "      <th></th>\n",
       "      <th>Congruent</th>\n",
       "      <th>Incongruent</th>\n",
       "    </tr>\n",
       "  </thead>\n",
       "  <tbody>\n",
       "    <tr>\n",
       "      <th>0</th>\n",
       "      <td>12.079</td>\n",
       "      <td>19.278</td>\n",
       "    </tr>\n",
       "    <tr>\n",
       "      <th>1</th>\n",
       "      <td>16.791</td>\n",
       "      <td>18.741</td>\n",
       "    </tr>\n",
       "    <tr>\n",
       "      <th>2</th>\n",
       "      <td>9.564</td>\n",
       "      <td>21.214</td>\n",
       "    </tr>\n",
       "    <tr>\n",
       "      <th>3</th>\n",
       "      <td>8.630</td>\n",
       "      <td>15.687</td>\n",
       "    </tr>\n",
       "    <tr>\n",
       "      <th>4</th>\n",
       "      <td>14.669</td>\n",
       "      <td>22.803</td>\n",
       "    </tr>\n",
       "  </tbody>\n",
       "</table>\n",
       "</div>"
      ],
      "text/plain": [
       "   Congruent  Incongruent\n",
       "0     12.079       19.278\n",
       "1     16.791       18.741\n",
       "2      9.564       21.214\n",
       "3      8.630       15.687\n",
       "4     14.669       22.803"
      ]
     },
     "execution_count": 1,
     "metadata": {},
     "output_type": "execute_result"
    }
   ],
   "source": [
    "#加载数据\n",
    "import numpy as np\n",
    "import pandas as pd\n",
    "import matplotlib.pyplot as plt\n",
    "%matplotlib inline\n",
    "import seaborn as sns\n",
    "\n",
    "df = pd.read_csv('stroopdata.csv')\n",
    "df.head()"
   ]
  },
  {
   "cell_type": "code",
   "execution_count": 2,
   "metadata": {},
   "outputs": [
    {
     "data": {
      "text/plain": [
       "(24, 2)"
      ]
     },
     "execution_count": 2,
     "metadata": {},
     "output_type": "execute_result"
    }
   ],
   "source": [
    "df.shape"
   ]
  },
  {
   "cell_type": "code",
   "execution_count": 3,
   "metadata": {},
   "outputs": [],
   "source": [
    "#参与者完成两次实验使用的时间的差值diff\n",
    "diff = df.Incongruent - df.Congruent"
   ]
  },
  {
   "cell_type": "code",
   "execution_count": 4,
   "metadata": {
    "scrolled": true
   },
   "outputs": [
    {
     "data": {
      "text/plain": [
       "count    24.000000\n",
       "mean      7.964792\n",
       "std       4.864827\n",
       "min       1.950000\n",
       "25%       3.645500\n",
       "50%       7.666500\n",
       "75%      10.258500\n",
       "max      21.919000\n",
       "dtype: float64"
      ]
     },
     "execution_count": 4,
     "metadata": {},
     "output_type": "execute_result"
    }
   ],
   "source": [
    "#差值集的描述性统计结果\n",
    "diff.describe()"
   ]
  },
  {
   "cell_type": "code",
   "execution_count": 5,
   "metadata": {},
   "outputs": [
    {
     "data": {
      "text/plain": [
       "(22.680434998263895, 19.969000000000005)"
      ]
     },
     "execution_count": 5,
     "metadata": {},
     "output_type": "execute_result"
    }
   ],
   "source": [
    "#计算方差和极差\n",
    "np.var(diff), diff.max() - diff.min()"
   ]
  },
  {
   "cell_type": "markdown",
   "metadata": {},
   "source": [
    "`1.`集中趋势测量：\n",
    "\n",
    "平均值$\\bar{x}_{Incon-con} = 7.9648$\n",
    "\n",
    "中位数$Median = 7.6665$\n",
    "\n",
    "`2.`变异测量：\n",
    "\n",
    "标准差$\\sigma = 4.8648$\n",
    "\n",
    "方差$\\sigma^2 = 22.6804$\n",
    "\n",
    "极差$max - min = 19.9690$\n"
   ]
  },
  {
   "cell_type": "markdown",
   "metadata": {},
   "source": [
    "(4) 提供显示样本数据分布的一个或两个可视化。用一两句话说明你从图中观察到的结果。"
   ]
  },
  {
   "cell_type": "code",
   "execution_count": 6,
   "metadata": {},
   "outputs": [
    {
     "data": {
      "text/plain": [
       "Text(0, 0.5, 'Probability')"
      ]
     },
     "execution_count": 6,
     "metadata": {},
     "output_type": "execute_result"
    },
    {
     "data": {
      "image/png": "[encoded data removed]",
      "text/plain": [
       "<Figure size 432x288 with 1 Axes>"
      ]
     },
     "metadata": {
      "needs_background": "light"
     },
     "output_type": "display_data"
    }
   ],
   "source": [
    "# 在这里创建可视化图表\n",
    "plt.hist(diff, bins=range(-2,22,4), rwidth=0.98,align='mid');\n",
    "plt.title('Histogram of Time Difference')\n",
    "plt.xlabel('Time Difference')\n",
    "plt.ylabel('Probability')"
   ]
  },
  {
   "cell_type": "markdown",
   "metadata": {},
   "source": [
    "差值集的直方图近似正态分布，均值，中位数和众数都在（6，10）区间内。"
   ]
  },
  {
   "cell_type": "code",
   "execution_count": 7,
   "metadata": {},
   "outputs": [
    {
     "data": {
      "text/plain": [
       "<matplotlib.legend.Legend at 0x1a16f9ff60>"
      ]
     },
     "execution_count": 7,
     "metadata": {},
     "output_type": "execute_result"
    },
    {
     "data": {
      "image/png": "[encoded data removed]",
      "text/plain": [
       "<Figure size 720x360 with 1 Axes>"
      ]
     },
     "metadata": {
      "needs_background": "light"
     },
     "output_type": "display_data"
    }
   ],
   "source": [
    "#观察在不同条件下的使用时间的分布差异\n",
    "fig, ax = plt.subplots(figsize=(10, 5))\n",
    "ax = sns.distplot(df.loc[:, \"Congruent\"], label= \"Congruent\", hist_kws={'alpha':.7})\n",
    "ax = sns.distplot(df.loc[:, \"Incongruent\"], label= \"Incongruent\",hist_kws={'alpha':.7})\n",
    "ax.set(xlabel='time', ylabel='density')\n",
    "ax.set_title(\"Histogram and density plot of time in different conditions\\n\",  fontsize=15)\n",
    "plt.legend()"
   ]
  },
  {
   "cell_type": "markdown",
   "metadata": {},
   "source": [
    "从上图中可以看出，两组使用时间的分布存在差异，文字与颜色不一致条件下的使用时间的分布向右移动。看起来这种情况下的参与者比文字和颜色一致时完成任务使用的时间更多。"
   ]
  },
  {
   "cell_type": "markdown",
   "metadata": {},
   "source": [
    "(5) 现在，执行统计测试并报告你的结果。你的置信水平和关键统计值是多少？你是否成功拒绝零假设？对试验任务得出一个结论。结果是否与你的期望一致？"
   ]
  },
  {
   "cell_type": "code",
   "execution_count": 10,
   "metadata": {},
   "outputs": [],
   "source": [
    "# 在这里执行统计检验\n",
    "#1. \n",
    "#使用自助法和放回取样，测试均数差diffs\n",
    "diffs = []\n",
    "for _ in range(10000):\n",
    "    bootsamp = df.sample(100, replace = True)\n",
    "    means_Incon = bootsamp['Incongruent'].mean()\n",
    "    means_con = bootsamp['Congruent'].mean()\n",
    "    diffs.append(means_Incon - means_con)"
   ]
  },
  {
   "cell_type": "code",
   "execution_count": 11,
   "metadata": {},
   "outputs": [
    {
     "data": {
      "text/plain": [
       "(6.351849999999983, 9.1091032)"
      ]
     },
     "execution_count": 11,
     "metadata": {},
     "output_type": "execute_result"
    }
   ],
   "source": [
    "#2. \n",
    "#构建置信区间，置信度为99%\n",
    "np.percentile(diffs, 0), np.percentile(diffs, 99)"
   ]
  },
  {
   "cell_type": "markdown",
   "metadata": {},
   "source": [
    "置信区间不包含0，这表明总体的均值之间是存在差异的，文字与颜色不一致条件下平均使用的时间大于一致条件下平均使用的时间，置信水平为99%。"
   ]
  },
  {
   "cell_type": "code",
   "execution_count": 12,
   "metadata": {},
   "outputs": [],
   "source": [
    "#3.\n",
    "#模拟零假设\n",
    "null_vals = np.random.normal(0, np.std(diffs), 10000)"
   ]
  },
  {
   "cell_type": "code",
   "execution_count": 13,
   "metadata": {},
   "outputs": [
    {
     "data": {
      "text/plain": [
       "0.0"
      ]
     },
     "execution_count": 13,
     "metadata": {},
     "output_type": "execute_result"
    }
   ],
   "source": [
    "#4.\n",
    "#计算P值\n",
    "pval = (null_vals > diffs).mean()\n",
    "pval"
   ]
  },
  {
   "cell_type": "markdown",
   "metadata": {},
   "source": [
    "因为置信度为99%，I类错误的阙值为0.01，因为p=0<0.01，所以拒绝零假设。\n",
    "\n",
    "结论：参与者在不同条件下完成任务使用的时间存在明显差异，在文字与颜色不一致条件下使用的时间明显大于一致条件下使用的时间，所以，存在斯特鲁普效应，试验结果与期望一致。"
   ]
  },
  {
   "cell_type": "markdown",
   "metadata": {},
   "source": [
    "(6)所观察效应的原因是什么？所执行的 Stroop 任务的扩展或相关试验？这可能会得到类似的效应。"
   ]
  },
  {
   "cell_type": "markdown",
   "metadata": {},
   "source": [
    "在阅读斯特鲁普效应相应的[维基百科](https://en.wikipedia.org/wiki/Stroop_effect)后，有几种理论用于解释Stroop效应，其中最常见的是处理速度理论，自动化理论，和选择性注意理论。我认为所观察效应的原因是大脑在识别颜色和阅读单词之间存在滞后，大脑通过习惯性阅读自动理解单词的意思，而识别颜色不是一个自动过程，所以犹豫不决，在文字与颜色不一致条件下识别文字信息干扰了参与者。\n",
    "\n",
    "扩展或相关试验：将参与者执行的任务改为报告文字（单词），观察文字与颜色不一致条件下颜色信息是否会干扰到文字，对比一致条件和不一致条件下反应时间的差异。\n",
    "还可以进行相关试验：要求参与者说出列表中不包含数字的字符串的长度，如“store”，\"str\"，记录反应时间。然后再说出同等大小的另一列表中由数字组成的字符串的长度，如“555”，“23”等，记录参与者在不同情况下全部完成任务使用的时间，测试数字对参与者识别字符串长度的干扰。"
   ]
  }
 ],
 "metadata": {
  "anaconda-cloud": {},
  "kernelspec": {
   "display_name": "Python 3",
   "language": "python",
   "name": "python3"
  },
  "language_info": {
   "codemirror_mode": {
    "name": "ipython",
    "version": 3
   },
   "file_extension": ".py",
   "mimetype": "text/x-python",
   "name": "python",
   "nbconvert_exporter": "python",
   "pygments_lexer": "ipython3",
   "version": "3.7.2"
  }
 },
 "nbformat": 4,
 "nbformat_minor": 2
}
